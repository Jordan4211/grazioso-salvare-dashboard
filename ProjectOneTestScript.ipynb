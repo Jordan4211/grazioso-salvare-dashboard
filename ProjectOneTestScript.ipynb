{
 "cells": [
  {
   "cell_type": "code",
   "execution_count": 1,
   "id": "3d330705-083e-4333-b9ba-c9ad03a806d3",
   "metadata": {
    "tags": []
   },
   "outputs": [
    {
     "data": {
      "text/plain": [
       "True"
      ]
     },
     "execution_count": 1,
     "metadata": {},
     "output_type": "execute_result"
    }
   ],
   "source": [
    "from datetime import datetime\n",
    "from CRUD_Python_Module import AnimalShelter\n",
    "\n",
    "# shelter = AnimalShelter()\n",
    "shelter = AnimalShelter(\"aacuser\",\"ChooseAStrongPassword123!\")\n",
    "\n",
    "tid = f\"P1-{datetime.utcnow().isoformat()}\"\n",
    "doc = {\n",
    "    \"test_id\": tid,\n",
    "    \"animal_type\": \"Dog\",\n",
    "    \"name\": \"Testo\",\n",
    "    \"breed\": \"Unit Test\",\n",
    "    \"outcome_type\": \"Transfer\"\n",
    "}\n",
    "\n",
    "# CREATE\n",
    "ok = shelter.create(doc)\n",
    "ok"
   ]
  },
  {
   "cell_type": "code",
   "execution_count": 2,
   "id": "772401cd-d1af-4f2e-92f3-b165815f23d5",
   "metadata": {
    "tags": []
   },
   "outputs": [
    {
     "data": {
      "text/plain": [
       "(1,\n",
       " [{'_id': ObjectId('68f5e13fe784de1f5f6361e6'),\n",
       "   'test_id': 'P1-2025-10-20T07:14:07.206102',\n",
       "   'animal_type': 'Dog',\n",
       "   'name': 'Testo',\n",
       "   'breed': 'Unit Test',\n",
       "   'outcome_type': 'Transfer'}])"
      ]
     },
     "execution_count": 2,
     "metadata": {},
     "output_type": "execute_result"
    }
   ],
   "source": [
    "# READ\n",
    "rows = shelter.read({\"test_id\": tid})\n",
    "len(rows), rows[:1]"
   ]
  },
  {
   "cell_type": "code",
   "execution_count": 3,
   "id": "5c78c36c-19a1-4308-8ce6-7fb771d09fac",
   "metadata": {
    "tags": []
   },
   "outputs": [
    {
     "data": {
      "text/plain": [
       "1"
      ]
     },
     "execution_count": 3,
     "metadata": {},
     "output_type": "execute_result"
    }
   ],
   "source": [
    "# UPDATE\n",
    "modified = shelter.update({\"test_id\": tid}, {\"$set\": {\"outcome_type\": \"Adoption\"}}, many=False)\n",
    "modified"
   ]
  },
  {
   "cell_type": "code",
   "execution_count": 4,
   "id": "9546bbc3-f8b9-4cfc-8429-a73732448b83",
   "metadata": {
    "tags": []
   },
   "outputs": [
    {
     "data": {
      "text/plain": [
       "[{'_id': ObjectId('68f5e13fe784de1f5f6361e6'),\n",
       "  'test_id': 'P1-2025-10-20T07:14:07.206102',\n",
       "  'animal_type': 'Dog',\n",
       "  'name': 'Testo',\n",
       "  'breed': 'Unit Test',\n",
       "  'outcome_type': 'Adoption'}]"
      ]
     },
     "execution_count": 4,
     "metadata": {},
     "output_type": "execute_result"
    }
   ],
   "source": [
    "# VERIFY UPDATE\n",
    "shelter.read({\"test_id\": tid})[:1]"
   ]
  },
  {
   "cell_type": "code",
   "execution_count": 5,
   "id": "36dbdc7f-6925-409d-89c8-d63d95efd6e7",
   "metadata": {
    "tags": []
   },
   "outputs": [
    {
     "data": {
      "text/plain": [
       "1"
      ]
     },
     "execution_count": 5,
     "metadata": {},
     "output_type": "execute_result"
    }
   ],
   "source": [
    "# DELETE\n",
    "deleted = shelter.delete({\"test_id\": tid}, many=False)\n",
    "deleted"
   ]
  },
  {
   "cell_type": "code",
   "execution_count": null,
   "id": "cdd21c12-5401-4f2f-b6cc-2f1713028db1",
   "metadata": {
    "tags": []
   },
   "outputs": [],
   "source": []
  }
 ],
 "metadata": {
  "kernelspec": {
   "display_name": "Python 3 (ipykernel)",
   "language": "python",
   "name": "python3"
  },
  "language_info": {
   "codemirror_mode": {
    "name": "ipython",
    "version": 3
   },
   "file_extension": ".py",
   "mimetype": "text/x-python",
   "name": "python",
   "nbconvert_exporter": "python",
   "pygments_lexer": "ipython3",
   "version": "3.11.2"
  }
 },
 "nbformat": 4,
 "nbformat_minor": 5
}
